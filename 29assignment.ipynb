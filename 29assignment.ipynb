{
 "cells": [
  {
   "cell_type": "code",
   "execution_count": 1,
   "id": "d7cee5e8-3316-42de-8298-9dd337586308",
   "metadata": {},
   "outputs": [],
   "source": [
    "#Question1:\n",
    "Guido Van Rossum developed python programming language."
   ]
  },
  {
   "cell_type": "code",
   "execution_count": 3,
   "id": "3af76233-18c9-4ff2-b0ac-848e1aef4cdf",
   "metadata": {},
   "outputs": [],
   "source": [
    "#Question2:\n",
    "Python is an interpreted programming language which is also support objected-oriented & structured programming."
   ]
  },
  {
   "cell_type": "code",
   "execution_count": null,
   "id": "b2a808ad-ccd7-40b3-a1e0-ee836830b2a0",
   "metadata": {},
   "outputs": [],
   "source": [
    "#Question3:\n",
    "Yes, python is a case sensitive when dealing with identifiers.\n",
    "example: Var = 2 & var = 22\n",
    "Here  Var & var are different."
   ]
  },
  {
   "cell_type": "code",
   "execution_count": null,
   "id": "380b242e-80c7-4f82-81d5-da77a3495849",
   "metadata": {},
   "outputs": [],
   "source": [
    "#Question4:\n",
    ".pyc is the correct extension  of python file"
   ]
  },
  {
   "cell_type": "code",
   "execution_count": null,
   "id": "8b888c92-201a-4ef2-a23f-429d6badc575",
   "metadata": {},
   "outputs": [],
   "source": [
    "#Question5:\n",
    "Python is an interpreted language."
   ]
  },
  {
   "cell_type": "code",
   "execution_count": 2,
   "id": "9e450c07-3117-4402-8389-dadc3822380b",
   "metadata": {},
   "outputs": [
    {
     "name": "stdin",
     "output_type": "stream",
     "text": [
      "Enter the score 180\n"
     ]
    },
    {
     "name": "stdout",
     "output_type": "stream",
     "text": [
      "It is a good score\n"
     ]
    }
   ],
   "source": [
    "#Question6:\n",
    "score = int(input(\"Enter the score\"))\n",
    "if score >= 180 :\n",
    "    print(\"It is a good score\")\n",
    "else:\n",
    "    print(\"It is not so good score\")\n",
    "\n"
   ]
  },
  {
   "cell_type": "code",
   "execution_count": 5,
   "id": "484785ca-5c98-4eb5-b357-fee6677a808a",
   "metadata": {},
   "outputs": [],
   "source": [
    "#Question7:\n",
    " '#' character is used to give single line comments in Python."
   ]
  },
  {
   "cell_type": "code",
   "execution_count": 8,
   "id": "a5d85c1b-220d-4934-988d-07d237035d16",
   "metadata": {},
   "outputs": [
    {
     "ename": "NameError",
     "evalue": "name 'sys' is not defined",
     "output_type": "error",
     "traceback": [
      "\u001b[0;31m---------------------------------------------------------------------------\u001b[0m",
      "\u001b[0;31mNameError\u001b[0m                                 Traceback (most recent call last)",
      "Cell \u001b[0;32mIn[8], line 2\u001b[0m\n\u001b[1;32m      1\u001b[0m \u001b[38;5;66;03m#Question8:\u001b[39;00m\n\u001b[0;32m----> 2\u001b[0m \u001b[43msys\u001b[49m\u001b[38;5;241m.\u001b[39mversion()\n",
      "\u001b[0;31mNameError\u001b[0m: name 'sys' is not defined"
     ]
    }
   ],
   "source": [
    "#Question8:\n",
    "sys.version() used to check the current version."
   ]
  },
  {
   "cell_type": "code",
   "execution_count": null,
   "id": "017d28f4-33c3-4e79-9b86-1e072acd9905",
   "metadata": {},
   "outputs": [],
   "source": [
    "#Question9:\n",
    "Python supports the creation of anonymous function at runtime ,using a construct called lamda"
   ]
  },
  {
   "cell_type": "code",
   "execution_count": null,
   "id": "a693129e-61e4-46b2-b89e-d2375e288452",
   "metadata": {},
   "outputs": [],
   "source": [
    "#Question10:\n",
    "pip stands for Preferred Installer Packages in python."
   ]
  },
  {
   "cell_type": "code",
   "execution_count": null,
   "id": "3f7a7bc8-fe40-457a-b21a-336298f15ef0",
   "metadata": {},
   "outputs": [],
   "source": [
    "#Question11:\n",
    "Some built in functions in python are input(),len(),max(),min(),sum(),type()  etc."
   ]
  },
  {
   "cell_type": "code",
   "execution_count": null,
   "id": "68e6fc74-36db-4aa9-b028-c460d33cd0d2",
   "metadata": {},
   "outputs": [],
   "source": [
    "#Question12 :\n",
    "Maximum possible length of an indentifier in python is 79 characters."
   ]
  },
  {
   "cell_type": "code",
   "execution_count": null,
   "id": "2dfcefdb-ccbb-452f-88cc-a8e02460e2b6",
   "metadata": {},
   "outputs": [],
   "source": [
    "#Question13:\n",
    "1.Python is an object oriented & procedural programming language\n",
    "2.Easy to understand.\n",
    "3.Used in different sector like in data science,in OS,in DB,in GUI etc."
   ]
  },
  {
   "cell_type": "code",
   "execution_count": null,
   "id": "66547ae8-306b-490e-a7e5-e045d8c5747f",
   "metadata": {},
   "outputs": [],
   "source": [
    "#Question14:\n",
    "Python has a private heap that stores program’s objects and data structures.Python memory manager takes care of the bulk of the memory management work and allows user to concentrate on code."
   ]
  },
  {
   "cell_type": "code",
   "execution_count": null,
   "id": "15ef061c-4975-4095-becf-61078c00ebe8",
   "metadata": {},
   "outputs": [],
   "source": [
    "#Question15:\n",
    "step 1 : Atfirst download the latest version for windows form www.python.org which is the official website of python.\n",
    "step 2 : Then install the python in your own machine.\n",
    "step 3 : After that we need to locate our python file where it is installed then open the file & copy location path.\n",
    "step 4 : Search for 'Edit the system enviromental' & click on that.\n",
    "step 5 : Now click the \"Enviromental Variables\" button & then press new button on user section.\n",
    "step 6 : Then add variable name and path of python file. It is done."
   ]
  },
  {
   "cell_type": "code",
   "execution_count": null,
   "id": "b36206a3-b648-41b9-aff9-451e8ee7ffd5",
   "metadata": {},
   "outputs": [],
   "source": [
    "#Question16\n",
    "Yes, indentation is required in python. Specially in case of conditional statement and in loop "
   ]
  }
 ],
 "metadata": {
  "kernelspec": {
   "display_name": "Python 3 (ipykernel)",
   "language": "python",
   "name": "python3"
  },
  "language_info": {
   "codemirror_mode": {
    "name": "ipython",
    "version": 3
   },
   "file_extension": ".py",
   "mimetype": "text/x-python",
   "name": "python",
   "nbconvert_exporter": "python",
   "pygments_lexer": "ipython3",
   "version": "3.10.8"
  }
 },
 "nbformat": 4,
 "nbformat_minor": 5
}
